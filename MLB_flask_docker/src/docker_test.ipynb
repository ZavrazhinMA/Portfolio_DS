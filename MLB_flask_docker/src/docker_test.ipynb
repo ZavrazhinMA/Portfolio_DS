{
 "cells": [
  {
   "cell_type": "code",
   "execution_count": 3,
   "metadata": {
    "ExecuteTime": {
     "end_time": "2021-06-02T07:22:06.202409Z",
     "start_time": "2021-06-02T07:22:04.713810Z"
    }
   },
   "outputs": [],
   "source": [
    "import pandas as pd\n",
    "from sklearn.metrics import roc_auc_score, roc_curve, f1_score\n",
    "from urllib import request, parse\n",
    "import dill\n",
    "\n",
    "X_test = pd.read_csv(\"../data/X_test.csv\")\n",
    "y_test = pd.read_csv(\"../data/y_test.csv\")"
   ]
  },
  {
   "cell_type": "code",
   "execution_count": 4,
   "metadata": {
    "ExecuteTime": {
     "end_time": "2021-06-02T07:22:19.394225Z",
     "start_time": "2021-06-02T07:22:19.385225Z"
    }
   },
   "outputs": [],
   "source": [
    "import urllib.request\n",
    "import json\n",
    "\n",
    "\n",
    "def get_prediction(x):\n",
    "    \n",
    "    enrollee_id, city, city_development_index, gender, relevent_experience, enrolled_university,\\\n",
    "    education_level, major_discipline, experience, company_size, company_type, last_new_job, training_hours = x\n",
    "    body = {\n",
    "        \"enrollee_id\": enrollee_id,\n",
    "        \"city\": city,\n",
    "        \"city_development_index\": city_development_index,\n",
    "        \"gender\": gender,\n",
    "        \"relevent_experience\": relevent_experience,\n",
    "        \"enrolled_university\": enrolled_university,\n",
    "        \"education_level\": education_level,\n",
    "        \"major_discipline\": major_discipline,\n",
    "        \"experience\": experience,\n",
    "        \"company_size\": company_size,\n",
    "        \"company_type\": company_type,\n",
    "        \"last_new_job\": last_new_job,\n",
    "        \"training_hours\": training_hours\n",
    "    }\n",
    "\n",
    "    myurl = \"http://0.0.0.0:8180/predict\"\n",
    "    req = urllib.request.Request(myurl)\n",
    "    req.add_header('Content-Type', 'application/json; charset=utf-8')\n",
    "    jsondata = json.dumps(body)\n",
    "    jsondataasbytes = jsondata.encode('utf-8')\n",
    "    req.add_header('Content-Length', len(jsondataasbytes))\n",
    "    response = urllib.request.urlopen(req, jsondataasbytes)\n",
    "    return json.loads(response.read())['predictions']"
   ]
  },
  {
   "cell_type": "code",
   "execution_count": 6,
   "metadata": {
    "ExecuteTime": {
     "end_time": "2021-06-02T07:22:24.445626Z",
     "start_time": "2021-06-02T07:22:24.418972Z"
    }
   },
   "outputs": [],
   "source": [
    "y_proba = X_test.apply(lambda x: get_prediction(x), 1)"
   ]
  },
  {
   "cell_type": "code",
   "execution_count": 8,
   "metadata": {
    "ExecuteTime": {
     "end_time": "2021-05-29T15:03:12.241683Z",
     "start_time": "2021-05-29T15:03:12.220997Z"
    }
   },
   "outputs": [
    {
     "name": "stdout",
     "output_type": "stream",
     "text": [
      "****************************************************************************************************\n",
      "[[0.35714042 0.6428596 ]\n",
      " [0.8679588  0.13204125]\n",
      " [0.9052411  0.09475891]\n",
      " ...\n",
      " [0.96714604 0.03285398]\n",
      " [0.8357245  0.16427551]\n",
      " [0.9735333  0.02646673]]\n",
      "\n",
      "ROC-AUC score: 0.8016027952144854\n"
     ]
    }
   ],
   "source": [
    "print(\"*\"*100)\n",
    "print(y_proba)\n",
    "print()\n",
    "print(f'ROC-AUC score: {roc_auc_score(y_test, y_proba[:, 1])}')"
   ]
  }
 ],
 "metadata": {
  "kernelspec": {
   "display_name": "Python 3",
   "language": "python",
   "name": "python3"
  },
  "language_info": {
   "codemirror_mode": {
    "name": "ipython",
    "version": 3
   },
   "file_extension": ".py",
   "mimetype": "text/x-python",
   "name": "python",
   "nbconvert_exporter": "python",
   "pygments_lexer": "ipython3",
   "version": "3.8.5"
  },
  "toc": {
   "base_numbering": 1,
   "nav_menu": {},
   "number_sections": true,
   "sideBar": true,
   "skip_h1_title": false,
   "title_cell": "Table of Contents",
   "title_sidebar": "Contents",
   "toc_cell": false,
   "toc_position": {},
   "toc_section_display": true,
   "toc_window_display": false
  }
 },
 "nbformat": 4,
 "nbformat_minor": 4
}
