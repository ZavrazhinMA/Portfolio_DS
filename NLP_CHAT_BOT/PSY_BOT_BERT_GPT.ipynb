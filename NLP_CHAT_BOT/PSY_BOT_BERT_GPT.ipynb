{
 "cells": [
  {
   "cell_type": "code",
   "execution_count": 1,
   "id": "106b6458",
   "metadata": {
    "ExecuteTime": {
     "end_time": "2021-09-24T11:03:32.218913Z",
     "start_time": "2021-09-24T11:03:31.764821Z"
    }
   },
   "outputs": [],
   "source": [
    "import numpy as np\n",
    "import pandas as pd\n",
    "import warnings\n",
    "warnings.filterwarnings('ignore')\n",
    "pd.set_option('display.float_format', '{:.2f}'.format)"
   ]
  },
  {
   "cell_type": "code",
   "execution_count": 2,
   "id": "bb606487",
   "metadata": {
    "ExecuteTime": {
     "end_time": "2021-09-24T11:03:36.100017Z",
     "start_time": "2021-09-24T11:03:32.220913Z"
    }
   },
   "outputs": [],
   "source": [
    "import json\n",
    "import os\n",
    "import re\n",
    "import time\n",
    "import pathlib\n",
    "import annoy\n",
    "from text_dialog import dialog_dict\n",
    "from tqdm import tqdm_notebook\n",
    "from string import punctuation\n",
    "from spacy.lang.ru.stop_words import STOP_WORDS\n",
    "from navec import Navec\n",
    "from slovnet import NER"
   ]
  },
  {
   "cell_type": "code",
   "execution_count": 3,
   "id": "fa9b5476",
   "metadata": {
    "ExecuteTime": {
     "end_time": "2021-09-24T11:03:36.776418Z",
     "start_time": "2021-09-24T11:03:36.102009Z"
    }
   },
   "outputs": [],
   "source": [
    "import torch\n",
    "from transformers import AutoModelForCausalLM, AutoTokenizer, AutoModel"
   ]
  },
  {
   "cell_type": "code",
   "execution_count": 4,
   "id": "e1418298",
   "metadata": {
    "ExecuteTime": {
     "end_time": "2021-09-24T11:03:37.816152Z",
     "start_time": "2021-09-24T11:03:36.777411Z"
    }
   },
   "outputs": [],
   "source": [
    "import logging\n",
    "from telegram.ext import Updater, CommandHandler, MessageHandler, Filters, CallbackContext"
   ]
  },
  {
   "cell_type": "markdown",
   "id": "973a3066",
   "metadata": {},
   "source": [
    "# PROJECT INFO"
   ]
  },
  {
   "cell_type": "markdown",
   "id": "d0088201",
   "metadata": {},
   "source": [
    "**Тема**: **\"Создание прототипа бота-психотераверта\"**\n",
    "\n",
    "Данные взяты с сайта **https://psychoambulanz.ru/** (Лечение панических атак и депрессии)\n",
    "\n",
    "PS. Для России тема точно актуальная, хотя обработка таких данных не самое приятное занятие "
   ]
  },
  {
   "cell_type": "markdown",
   "id": "457672cc",
   "metadata": {},
   "source": [
    "## Схема обработки данных и реализации  **бота**"
   ]
  },
  {
   "cell_type": "markdown",
   "id": "b60c5722",
   "metadata": {
    "ExecuteTime": {
     "end_time": "2021-09-23T10:44:36.796343Z",
     "start_time": "2021-09-23T10:44:36.755345Z"
    }
   },
   "source": [
    "![title](process.png)"
   ]
  },
  {
   "cell_type": "markdown",
   "id": "2b7f3c9d",
   "metadata": {},
   "source": [
    "# LOAD DATA"
   ]
  },
  {
   "cell_type": "markdown",
   "id": "f2d54e43",
   "metadata": {},
   "source": [
    "## NER PERSON PROCESS"
   ]
  },
  {
   "cell_type": "markdown",
   "id": "92854c42",
   "metadata": {
    "ExecuteTime": {
     "end_time": "2021-09-16T15:07:27.870672Z",
     "start_time": "2021-09-16T15:07:27.361665Z"
    }
   },
   "source": [
    "Ответы в датасете **персонализированы** - необходимо избавиться от обращений."
   ]
  },
  {
   "cell_type": "code",
   "execution_count": 5,
   "id": "f09ce61c",
   "metadata": {
    "ExecuteTime": {
     "end_time": "2021-09-24T11:03:37.831543Z",
     "start_time": "2021-09-24T11:03:37.818148Z"
    }
   },
   "outputs": [],
   "source": [
    "skip_step = True\n",
    "\n",
    "if not skip_step:\n",
    "    !wget https: // storage.yandexcloud.net/natasha-slovnet/packs/slovnet_ner_news_v1.tar\n",
    "    !wget https: // storage.yandexcloud.net/natasha-navec/packs/navec_news_v1_1B_250K_300d_100q.tar"
   ]
  },
  {
   "cell_type": "code",
   "execution_count": 6,
   "id": "19bdd329",
   "metadata": {
    "ExecuteTime": {
     "end_time": "2021-09-24T11:03:38.348593Z",
     "start_time": "2021-09-24T11:03:37.833556Z"
    }
   },
   "outputs": [],
   "source": [
    "skip_step = False\n",
    "\n",
    "if not skip_step:\n",
    "    navec = Navec.load('navec_news_v1_1B_250K_300d_100q.tar')\n",
    "    ner = NER.load('slovnet_ner_news_v1.tar')\n",
    "    ner.navec(navec)"
   ]
  },
  {
   "cell_type": "code",
   "execution_count": 7,
   "id": "6ea27345",
   "metadata": {
    "ExecuteTime": {
     "end_time": "2021-09-24T11:03:38.380581Z",
     "start_time": "2021-09-24T11:03:38.350586Z"
    }
   },
   "outputs": [],
   "source": [
    "# замена имен пациентов на \"<mtg> Patient <mtg>\" - в диалогах будет заменятся на ник обратившегося пользователя\n",
    "\n",
    "def name_replace(text, ner, author=None):\n",
    "\n",
    "    text = re.sub('горбатов', 'DOCTOR', text, flags=re.I)\n",
    "    markup = ner(text)\n",
    "    name_list = []\n",
    "    if author:\n",
    "        name_list.append(author)\n",
    "\n",
    "    for span in markup.spans:\n",
    "        if span.type == 'PER':\n",
    "            name_list.append(text[span.start: span.stop])\n",
    "\n",
    "    for name in name_list:\n",
    "        text = text.replace(name, '<mtg> Patient <mtg>')\n",
    "\n",
    "    return text"
   ]
  },
  {
   "cell_type": "code",
   "execution_count": 8,
   "id": "0880259b",
   "metadata": {
    "ExecuteTime": {
     "end_time": "2021-09-24T11:03:38.395844Z",
     "start_time": "2021-09-24T11:03:38.382574Z"
    },
    "scrolled": true
   },
   "outputs": [
    {
     "name": "stdout",
     "output_type": "stream",
     "text": [
      "<mtg> Patient <mtg> отведал этих мягких французских булочек. <mtg> Patient <mtg> счастлив\n",
      "****************************************************************************************************\n"
     ]
    }
   ],
   "source": [
    "test_text = 'Олег Петрович отведал этих мягких французских булочек. Олег счастлив'\n",
    "print(name_replace(test_text, ner))\n",
    "print('*'*100)"
   ]
  },
  {
   "cell_type": "markdown",
   "id": "75788385",
   "metadata": {},
   "source": [
    "## Questions & Answers process and load"
   ]
  },
  {
   "cell_type": "markdown",
   "id": "bbd2d5de",
   "metadata": {},
   "source": [
    "В датасете информация собрана в виде диалогов. Думаю стоит разделить на две части:\n",
    "* 1) Первый вопрос и первый ответ\n",
    "\n",
    "* 2) Все остальное\n",
    "\n",
    "Формат telegram-бота плохо подходить длительных консультаций (для этого лучше подходит форум-формат). Поэтому в дальнейшем будем использовать только датафрейм с первичными обращениями пациентов. (Хотя можно было использовать для первого вопроса только ответы из датасета №1 а последующие из №1 и №2 в соответсвии с мерой похожести)"
   ]
  },
  {
   "cell_type": "code",
   "execution_count": 9,
   "id": "12cb8b71",
   "metadata": {
    "ExecuteTime": {
     "end_time": "2021-09-24T11:03:38.411204Z",
     "start_time": "2021-09-24T11:03:38.397171Z"
    }
   },
   "outputs": [],
   "source": [
    "sw = set(list(STOP_WORDS)) - {'не', 'ни', 'нет'}\n",
    "exclude = set(punctuation)"
   ]
  },
  {
   "cell_type": "code",
   "execution_count": 10,
   "id": "b339b3b1",
   "metadata": {
    "ExecuteTime": {
     "end_time": "2021-09-24T11:03:38.427190Z",
     "start_time": "2021-09-24T11:03:38.413193Z"
    }
   },
   "outputs": [],
   "source": [
    "def preprocess_text(text):\n",
    "    text = text.strip()\n",
    "    text = re.sub(r'\\s+', ' ', text)\n",
    "    return text\n",
    "\n",
    "\n",
    "def preprocess_question(text, sw, exclude):\n",
    "    text = re.sub(r'[^\\w\\s]', ' ', text)\n",
    "    text = preprocess_text(text)\n",
    "    text = \"\".join(i for i in text.strip() if i not in exclude).split()\n",
    "    text = [i.lower() for i in text if i.lower() not in sw and i != \"\"]\n",
    "    return \" \".join(text)\n",
    "\n",
    "\n",
    "def preprocess_answer(data, ner):\n",
    "    data['answer_ready'] = data.apply(lambda row: name_replace(\n",
    "        row['answer'], ner, row['author']), axis=1)\n",
    "    return data"
   ]
  },
  {
   "cell_type": "markdown",
   "id": "762a25d1",
   "metadata": {},
   "source": [
    "Структра диалогов в датастете не всегда представлена в виде **вопрос-ответ**. Бывают случаи, кодга перед ответом идут два вопроса подряд или ответ разбит на несколько частей. Эти разбиения надо слить в один вопрос/ответ соответсвенно. \n",
    "\n",
    "Кроме того, в диалогах иногда первый вопрос представлен в виде истории болезни, которая конфиденциальна и **скрыта настройками приватности**. Иными словами ответ есть, а вопроса - нет. Бывают случае, когда вопрос задан, а ответа нет. Такие диалоги будут удальться из итоговых датасетов."
   ]
  },
  {
   "cell_type": "code",
   "execution_count": 11,
   "id": "6060d4b0",
   "metadata": {
    "ExecuteTime": {
     "end_time": "2021-09-24T11:03:38.457728Z",
     "start_time": "2021-09-24T11:03:38.429204Z"
    }
   },
   "outputs": [],
   "source": [
    "def load_data(json_path):\n",
    "    frame = {'id': [], 'title': [], 'author': [], 'question': [], 'answer': []}\n",
    "    df_data1 = pd.DataFrame(frame)  # для первого вопроса и ответа\n",
    "    df_data2 = pd.DataFrame(frame)  # для остальных\n",
    "\n",
    "    with open(json_path, \"r\", encoding=\"utf-8\") as read_file:\n",
    "        data = json.load(read_file)\n",
    "\n",
    "    for case in tqdm_notebook(data):\n",
    "        frame = {}\n",
    "        question_status = False\n",
    "        answer_status = False\n",
    "        first_status = True\n",
    "        question = ''\n",
    "        answer = ''\n",
    "\n",
    "        frame['id'] = case['d_id']\n",
    "        frame['title'] = case['title']\n",
    "        frame['author'] = case['dialog']['author'][0]\n",
    "        dialog_len = len(case['dialog']['author'])\n",
    "\n",
    "        for num, dialog in enumerate(case['dialog']['text']):\n",
    "\n",
    "            if (num == 0) and (preprocess_text(dialog) == ''):\n",
    "                break\n",
    "\n",
    "            if (num > dialog_len-1):\n",
    "                break\n",
    "\n",
    "            if case['dialog']['author'][num] != 'Др_Горбатов':\n",
    "                question = question + ' ' + dialog\n",
    "\n",
    "                try:\n",
    "                    if case['dialog']['author'][num+1] == 'Др_Горбатов':\n",
    "                        question_status = True\n",
    "                except IndexError:\n",
    "                    break\n",
    "\n",
    "            else:\n",
    "                answer = answer + ' ' + dialog\n",
    "\n",
    "                try:\n",
    "                    if case['dialog']['author'][num+1] != 'Др_Горбатов':\n",
    "                        answer_status = True\n",
    "                except IndexError:\n",
    "                    answer_status = True\n",
    "\n",
    "            if question_status and answer_status:\n",
    "\n",
    "                frame['question'] = preprocess_text(question)\n",
    "                frame['answer'] = preprocess_text(answer)\n",
    "\n",
    "                if first_status:\n",
    "                    df_data1 = df_data1.append(frame, ignore_index=True)\n",
    "                    first_status = False\n",
    "                else:\n",
    "                    df_data2 = df_data2.append(frame, ignore_index=True)\n",
    "\n",
    "                if len(case['dialog']['author']) != len(case['dialog']['text']):\n",
    "                    break\n",
    "\n",
    "                question_status = False\n",
    "                answer_status = False\n",
    "                question = ''\n",
    "                answer = ''\n",
    "\n",
    "    return df_data1, df_data2"
   ]
  },
  {
   "cell_type": "code",
   "execution_count": 12,
   "id": "6626a362",
   "metadata": {
    "ExecuteTime": {
     "end_time": "2021-09-24T11:03:38.473178Z",
     "start_time": "2021-09-24T11:03:38.459716Z"
    }
   },
   "outputs": [],
   "source": [
    "json_path_1 = os.path.join(pathlib.Path(os.getcwd()),\n",
    "                           \"data\", \"psychoambulanz.json\")\n",
    "\n",
    "json_path_2 = os.path.join(pathlib.Path(os.getcwd()),\n",
    "                           \"data\", \"psychoambulanz_ind.json\")"
   ]
  },
  {
   "cell_type": "code",
   "execution_count": 13,
   "id": "9352cc34",
   "metadata": {
    "ExecuteTime": {
     "end_time": "2021-09-24T11:03:38.489307Z",
     "start_time": "2021-09-24T11:03:38.475178Z"
    },
    "scrolled": true
   },
   "outputs": [],
   "source": [
    "skip_step = True\n",
    "\n",
    "if not skip_step:\n",
    "    df1, df2 = load_data(json_path_1)\n",
    "    df_data_1 = df1\n",
    "    df_data_2 = df2\n",
    "\n",
    "    df1, df2 = load_data(json_path_2)\n",
    "    df_data_1 = df_data_1.append(df1, ignore_index=True)\n",
    "    df_data_2 = df_data_2.append(df2, ignore_index=True)\n",
    "\n",
    "    df_data_1.to_csv('df_data_1.csv', index=False)\n",
    "    df_data_2.to_csv('df_data_2.csv', index=False)"
   ]
  },
  {
   "cell_type": "markdown",
   "id": "5e8f6aa7",
   "metadata": {},
   "source": [
    "*************************************"
   ]
  },
  {
   "cell_type": "code",
   "execution_count": 14,
   "id": "ee8a46f0",
   "metadata": {
    "ExecuteTime": {
     "end_time": "2021-09-24T11:03:39.520679Z",
     "start_time": "2021-09-24T11:03:38.491178Z"
    }
   },
   "outputs": [],
   "source": [
    "df_data_1 = pd.read_csv('df_data_1.csv')  # первые вопрос и ответ\n",
    "df_data_2 = pd.read_csv('df_data_2.csv')  # остальные вопросы и ответы"
   ]
  },
  {
   "cell_type": "code",
   "execution_count": 15,
   "id": "88adf0d0",
   "metadata": {
    "ExecuteTime": {
     "end_time": "2021-09-24T11:03:39.552672Z",
     "start_time": "2021-09-24T11:03:39.521662Z"
    },
    "scrolled": true
   },
   "outputs": [
    {
     "data": {
      "text/html": [
       "<div>\n",
       "<style scoped>\n",
       "    .dataframe tbody tr th:only-of-type {\n",
       "        vertical-align: middle;\n",
       "    }\n",
       "\n",
       "    .dataframe tbody tr th {\n",
       "        vertical-align: top;\n",
       "    }\n",
       "\n",
       "    .dataframe thead th {\n",
       "        text-align: right;\n",
       "    }\n",
       "</style>\n",
       "<table border=\"1\" class=\"dataframe\">\n",
       "  <thead>\n",
       "    <tr style=\"text-align: right;\">\n",
       "      <th></th>\n",
       "      <th>id</th>\n",
       "      <th>title</th>\n",
       "      <th>author</th>\n",
       "      <th>question</th>\n",
       "      <th>answer</th>\n",
       "    </tr>\n",
       "  </thead>\n",
       "  <tbody>\n",
       "    <tr>\n",
       "      <th>3</th>\n",
       "      <td>269126998</td>\n",
       "      <td>Помогите вылечиться</td>\n",
       "      <td>mknew</td>\n",
       "      <td>Мне 33 года.В 2011 была беременность, которая ...</td>\n",
       "      <td>Чем вы болеете ? Хороший вопрос, но без живой ...</td>\n",
       "    </tr>\n",
       "    <tr>\n",
       "      <th>4</th>\n",
       "      <td>269127481</td>\n",
       "      <td>Гтр</td>\n",
       "      <td>Nata1976</td>\n",
       "      <td>Добрый день, доктор! Вчера обращалась к вам с ...</td>\n",
       "      <td>Оксана, я недеюсь на то, что леветирацетам в д...</td>\n",
       "    </tr>\n",
       "  </tbody>\n",
       "</table>\n",
       "</div>"
      ],
      "text/plain": [
       "          id                title    author  \\\n",
       "3  269126998  Помогите вылечиться     mknew   \n",
       "4  269127481                  Гтр  Nata1976   \n",
       "\n",
       "                                            question  \\\n",
       "3  Мне 33 года.В 2011 была беременность, которая ...   \n",
       "4  Добрый день, доктор! Вчера обращалась к вам с ...   \n",
       "\n",
       "                                              answer  \n",
       "3  Чем вы болеете ? Хороший вопрос, но без живой ...  \n",
       "4  Оксана, я недеюсь на то, что леветирацетам в д...  "
      ]
     },
     "execution_count": 15,
     "metadata": {},
     "output_type": "execute_result"
    }
   ],
   "source": [
    "df_data_1.iloc[3:5]"
   ]
  },
  {
   "cell_type": "code",
   "execution_count": 16,
   "id": "68e60c61",
   "metadata": {
    "ExecuteTime": {
     "end_time": "2021-09-24T11:03:39.646700Z",
     "start_time": "2021-09-24T11:03:39.554662Z"
    }
   },
   "outputs": [
    {
     "name": "stdout",
     "output_type": "stream",
     "text": [
      "Размер датасетов: 1) - 16311, 2) - 4159 вопрос-ответов\n",
      "****************************************************************************************************\n"
     ]
    },
    {
     "data": {
      "text/html": [
       "<div>\n",
       "<style scoped>\n",
       "    .dataframe tbody tr th:only-of-type {\n",
       "        vertical-align: middle;\n",
       "    }\n",
       "\n",
       "    .dataframe tbody tr th {\n",
       "        vertical-align: top;\n",
       "    }\n",
       "\n",
       "    .dataframe thead th {\n",
       "        text-align: right;\n",
       "    }\n",
       "</style>\n",
       "<table border=\"1\" class=\"dataframe\">\n",
       "  <thead>\n",
       "    <tr style=\"text-align: right;\">\n",
       "      <th></th>\n",
       "      <th>question_len</th>\n",
       "      <th>answer_len</th>\n",
       "    </tr>\n",
       "  </thead>\n",
       "  <tbody>\n",
       "    <tr>\n",
       "      <th>count</th>\n",
       "      <td>16311.00</td>\n",
       "      <td>16311.00</td>\n",
       "    </tr>\n",
       "    <tr>\n",
       "      <th>mean</th>\n",
       "      <td>1047.41</td>\n",
       "      <td>370.41</td>\n",
       "    </tr>\n",
       "    <tr>\n",
       "      <th>std</th>\n",
       "      <td>1264.55</td>\n",
       "      <td>525.95</td>\n",
       "    </tr>\n",
       "    <tr>\n",
       "      <th>min</th>\n",
       "      <td>21.00</td>\n",
       "      <td>11.00</td>\n",
       "    </tr>\n",
       "    <tr>\n",
       "      <th>50%</th>\n",
       "      <td>667.00</td>\n",
       "      <td>213.00</td>\n",
       "    </tr>\n",
       "    <tr>\n",
       "      <th>max</th>\n",
       "      <td>9996.00</td>\n",
       "      <td>9527.00</td>\n",
       "    </tr>\n",
       "  </tbody>\n",
       "</table>\n",
       "</div>"
      ],
      "text/plain": [
       "       question_len  answer_len\n",
       "count      16311.00    16311.00\n",
       "mean        1047.41      370.41\n",
       "std         1264.55      525.95\n",
       "min           21.00       11.00\n",
       "50%          667.00      213.00\n",
       "max         9996.00     9527.00"
      ]
     },
     "metadata": {},
     "output_type": "display_data"
    },
    {
     "data": {
      "text/html": [
       "<div>\n",
       "<style scoped>\n",
       "    .dataframe tbody tr th:only-of-type {\n",
       "        vertical-align: middle;\n",
       "    }\n",
       "\n",
       "    .dataframe tbody tr th {\n",
       "        vertical-align: top;\n",
       "    }\n",
       "\n",
       "    .dataframe thead th {\n",
       "        text-align: right;\n",
       "    }\n",
       "</style>\n",
       "<table border=\"1\" class=\"dataframe\">\n",
       "  <thead>\n",
       "    <tr style=\"text-align: right;\">\n",
       "      <th></th>\n",
       "      <th>question_len</th>\n",
       "      <th>answer_len</th>\n",
       "    </tr>\n",
       "  </thead>\n",
       "  <tbody>\n",
       "    <tr>\n",
       "      <th>count</th>\n",
       "      <td>4159.00</td>\n",
       "      <td>4159.00</td>\n",
       "    </tr>\n",
       "    <tr>\n",
       "      <th>mean</th>\n",
       "      <td>1393.65</td>\n",
       "      <td>1051.35</td>\n",
       "    </tr>\n",
       "    <tr>\n",
       "      <th>std</th>\n",
       "      <td>1384.99</td>\n",
       "      <td>935.04</td>\n",
       "    </tr>\n",
       "    <tr>\n",
       "      <th>min</th>\n",
       "      <td>15.00</td>\n",
       "      <td>13.00</td>\n",
       "    </tr>\n",
       "    <tr>\n",
       "      <th>50%</th>\n",
       "      <td>983.00</td>\n",
       "      <td>776.00</td>\n",
       "    </tr>\n",
       "    <tr>\n",
       "      <th>max</th>\n",
       "      <td>9972.00</td>\n",
       "      <td>9049.00</td>\n",
       "    </tr>\n",
       "  </tbody>\n",
       "</table>\n",
       "</div>"
      ],
      "text/plain": [
       "       question_len  answer_len\n",
       "count       4159.00     4159.00\n",
       "mean        1393.65     1051.35\n",
       "std         1384.99      935.04\n",
       "min           15.00       13.00\n",
       "50%          983.00      776.00\n",
       "max         9972.00     9049.00"
      ]
     },
     "metadata": {},
     "output_type": "display_data"
    }
   ],
   "source": [
    "df_data_1['question_len'] = df_data_1['question'].apply(lambda x: len(x))\n",
    "df_data_2['question_len'] = df_data_2['question'].apply(lambda x: len(x))\n",
    "df_data_1['answer_len'] = df_data_1['answer'].apply(lambda x: len(str(x)))\n",
    "df_data_2['answer_len'] = df_data_2['answer'].apply(lambda x: len(str(x)))\n",
    "\n",
    "df_data_1 = df_data_1.loc[(df_data_1['question_len'] > 10)\n",
    "                          & (df_data_1['answer_len'] > 10)]\n",
    "df_data_2 = df_data_2.loc[(df_data_2['question_len'] > 10)\n",
    "                          & (df_data_2['answer_len'] > 10)]\n",
    "\n",
    "df_data_1 = df_data_1.loc[(df_data_1['question_len'] < 10000)\n",
    "                          & (df_data_1['answer_len'] < 10000)]\n",
    "df_data_2 = df_data_2.loc[(df_data_2['question_len'] < 10000)\n",
    "                          & (df_data_2['answer_len'] < 10000)]\n",
    "\n",
    "print(f'Размер датасетов: 1) - {len(df_data_1)}, 2) - {len(df_data_2)} вопрос-ответов')\n",
    "print('*'*100)\n",
    "display(df_data_1[['question_len', 'answer_len']].describe(percentiles=[.5]),\n",
    "        df_data_2[['question_len', 'answer_len']].describe(percentiles=[.5]))"
   ]
  },
  {
   "cell_type": "markdown",
   "id": "2ffc0ed5",
   "metadata": {
    "ExecuteTime": {
     "end_time": "2021-09-18T11:30:34.020685Z",
     "start_time": "2021-09-18T11:30:34.003687Z"
    }
   },
   "source": [
    "## Final data processing"
   ]
  },
  {
   "cell_type": "code",
   "execution_count": 17,
   "id": "997f9816",
   "metadata": {
    "ExecuteTime": {
     "end_time": "2021-09-24T11:06:00.007962Z",
     "start_time": "2021-09-24T11:03:39.647711Z"
    }
   },
   "outputs": [],
   "source": [
    "skip_step = False\n",
    "GPT = False\n",
    "\n",
    "if not skip_step:\n",
    "\n",
    "    # задаем индексы вопросов\n",
    "    idx = np.arange(99999999, 99999999-len(df_data_1), -1)\n",
    "    df_data_1['id'] = idx\n",
    "\n",
    "    idx = np.arange(89999999, 89999999-len(df_data_2), -1)\n",
    "    df_data_2['id'] = idx\n",
    "\n",
    "    # Заменяем имена в ответах\n",
    "    df_data_1 = preprocess_answer(df_data_1, ner)\n",
    "    df_data_2 = preprocess_answer(df_data_2, ner)\n",
    "\n",
    "    # Добавляем тему к вопросу\n",
    "    df_data_1['question'] = df_data_1['title'] + ' ' + df_data_1['question']\n",
    "    df_data_2['question'] = df_data_2['title'] + ' ' + df_data_2['question']\n",
    "\n",
    "    # Удаляем стоп-слова и пунктуацию из вопроса\n",
    "    df_data_1['question_ready'] = df_data_1.apply(\n",
    "        lambda row: preprocess_question(row['question'], sw, exclude), axis=1)\n",
    "    df_data_2['question_ready'] = df_data_2.apply(\n",
    "        lambda row: preprocess_question(row['question'], sw, exclude), axis=1)\n",
    "\n",
    "    if GPT:\n",
    "        # добавляем теги начала и конца ответа\n",
    "        df_data_1['answer_ready'] = '<soa> ' + \\\n",
    "            df_data_1['answer_ready'] + ' <eoa>'\n",
    "        df_data_2['answer_ready'] = '<soa> ' + \\\n",
    "            df_data_2['answer_ready'] + ' <eoa>'\n",
    "\n",
    "        # добавяем индекс вопроса в ответ\n",
    "        def query_add(query, answer):\n",
    "            text = '<qtg> ' + str(query) + ' <qtg> ' + answer\n",
    "            return text\n",
    "\n",
    "        df_data_1['answer_ready'] = df_data_1.apply(\n",
    "            lambda row: query_add(row['id'], row['answer_ready']), axis=1)\n",
    "        df_data_2['answer_ready'] = df_data_2.apply(\n",
    "            lambda row: query_add(row['id'], row['answer_ready']), axis=1)"
   ]
  },
  {
   "cell_type": "code",
   "execution_count": 18,
   "id": "4757e007",
   "metadata": {
    "ExecuteTime": {
     "end_time": "2021-09-24T11:06:00.039955Z",
     "start_time": "2021-09-24T11:06:00.008942Z"
    }
   },
   "outputs": [],
   "source": [
    "df_data_1 = df_data_1[['id', 'question_ready', 'answer_ready']]\n",
    "df_data_2 = df_data_2[['id', 'question_ready', 'answer_ready']]"
   ]
  },
  {
   "cell_type": "code",
   "execution_count": 19,
   "id": "b2538560",
   "metadata": {
    "ExecuteTime": {
     "end_time": "2021-09-24T11:06:00.055944Z",
     "start_time": "2021-09-24T11:06:00.041946Z"
    },
    "scrolled": true
   },
   "outputs": [
    {
     "data": {
      "text/html": [
       "<div>\n",
       "<style scoped>\n",
       "    .dataframe tbody tr th:only-of-type {\n",
       "        vertical-align: middle;\n",
       "    }\n",
       "\n",
       "    .dataframe tbody tr th {\n",
       "        vertical-align: top;\n",
       "    }\n",
       "\n",
       "    .dataframe thead th {\n",
       "        text-align: right;\n",
       "    }\n",
       "</style>\n",
       "<table border=\"1\" class=\"dataframe\">\n",
       "  <thead>\n",
       "    <tr style=\"text-align: right;\">\n",
       "      <th></th>\n",
       "      <th>id</th>\n",
       "      <th>question_ready</th>\n",
       "      <th>answer_ready</th>\n",
       "    </tr>\n",
       "  </thead>\n",
       "  <tbody>\n",
       "    <tr>\n",
       "      <th>4</th>\n",
       "      <td>99999996</td>\n",
       "      <td>гтр добрый день доктор вчера обращалась вопрос...</td>\n",
       "      <td>&lt;mtg&gt; Patient &lt;mtg&gt;, я недеюсь на то, что леве...</td>\n",
       "    </tr>\n",
       "    <tr>\n",
       "      <th>5</th>\n",
       "      <td>99999995</td>\n",
       "      <td>тревожное расстройство депрессия здравствуйте ...</td>\n",
       "      <td>1. Достаточна ли доза паксила 1/4 в сутки DOCT...</td>\n",
       "    </tr>\n",
       "  </tbody>\n",
       "</table>\n",
       "</div>"
      ],
      "text/plain": [
       "         id                                     question_ready  \\\n",
       "4  99999996  гтр добрый день доктор вчера обращалась вопрос...   \n",
       "5  99999995  тревожное расстройство депрессия здравствуйте ...   \n",
       "\n",
       "                                        answer_ready  \n",
       "4  <mtg> Patient <mtg>, я недеюсь на то, что леве...  \n",
       "5  1. Достаточна ли доза паксила 1/4 в сутки DOCT...  "
      ]
     },
     "execution_count": 19,
     "metadata": {},
     "output_type": "execute_result"
    }
   ],
   "source": [
    "df_data_1.iloc[3:5]"
   ]
  },
  {
   "cell_type": "code",
   "execution_count": 20,
   "id": "0003f0e6",
   "metadata": {
    "ExecuteTime": {
     "end_time": "2021-09-24T11:06:00.071943Z",
     "start_time": "2021-09-24T11:06:00.057943Z"
    }
   },
   "outputs": [
    {
     "data": {
      "text/plain": [
       "'Можно, с сегодня на завтра прекратите приём 37.5 мг венлафаксина и замените его эсциталопрамом в дозе 5 мг - 7 дней, затем доведите его дозу до 10 мг - 2-4 недели и при необходимости, и до 15 мг - 4 недели. Затем выберите из трех, протестированных вами доз эсциталопрама, самую подходящую вам и принимайте её дальше.'"
      ]
     },
     "execution_count": 20,
     "metadata": {},
     "output_type": "execute_result"
    }
   ],
   "source": [
    "df_data_1['answer_ready'][15]"
   ]
  },
  {
   "cell_type": "code",
   "execution_count": 21,
   "id": "0468f8e8",
   "metadata": {
    "ExecuteTime": {
     "end_time": "2021-09-24T11:06:00.845955Z",
     "start_time": "2021-09-24T11:06:00.073944Z"
    }
   },
   "outputs": [],
   "source": [
    "df_data_1.to_csv('df_1_prepared.csv', index=False)\n",
    "df_data_2.to_csv('df_2_prepared.csv', index=False)"
   ]
  },
  {
   "cell_type": "markdown",
   "id": "0ba569f0",
   "metadata": {},
   "source": [
    "*****************************************"
   ]
  },
  {
   "cell_type": "markdown",
   "id": "f40d6494",
   "metadata": {},
   "source": [
    "# Get BERT embedings"
   ]
  },
  {
   "cell_type": "code",
   "execution_count": 22,
   "id": "1ff5ece2",
   "metadata": {
    "ExecuteTime": {
     "end_time": "2021-09-24T11:06:11.468067Z",
     "start_time": "2021-09-24T11:06:00.849946Z"
    }
   },
   "outputs": [],
   "source": [
    "tokenizer = AutoTokenizer.from_pretrained(\"DeepPavlov/rubert-base-cased-sentence\")\n",
    "bert_model = AutoModel.from_pretrained(\"DeepPavlov/rubert-base-cased-sentence\")"
   ]
  },
  {
   "cell_type": "code",
   "execution_count": 23,
   "id": "e57fc477",
   "metadata": {
    "ExecuteTime": {
     "end_time": "2021-09-24T11:06:12.404090Z",
     "start_time": "2021-09-24T11:06:11.470067Z"
    }
   },
   "outputs": [],
   "source": [
    "df_data_pr_1 = pd.read_csv('df_1_prepared.csv')  # первые вопрос и ответ\n",
    "df_data_pr_2 = pd.read_csv('df_2_prepared.csv')  # остальные вопросы и ответы\n",
    "df_small_talk = pd.read_csv('small_talk1.csv', delimiter=';', encoding='utf-8')"
   ]
  },
  {
   "cell_type": "code",
   "execution_count": 24,
   "id": "c6d96d04",
   "metadata": {
    "ExecuteTime": {
     "end_time": "2021-09-24T11:06:12.420069Z",
     "start_time": "2021-09-24T11:06:12.405082Z"
    },
    "scrolled": false
   },
   "outputs": [
    {
     "data": {
      "text/html": [
       "<div>\n",
       "<style scoped>\n",
       "    .dataframe tbody tr th:only-of-type {\n",
       "        vertical-align: middle;\n",
       "    }\n",
       "\n",
       "    .dataframe tbody tr th {\n",
       "        vertical-align: top;\n",
       "    }\n",
       "\n",
       "    .dataframe thead th {\n",
       "        text-align: right;\n",
       "    }\n",
       "</style>\n",
       "<table border=\"1\" class=\"dataframe\">\n",
       "  <thead>\n",
       "    <tr style=\"text-align: right;\">\n",
       "      <th></th>\n",
       "      <th>Question</th>\n",
       "      <th>Answer</th>\n",
       "    </tr>\n",
       "  </thead>\n",
       "  <tbody>\n",
       "    <tr>\n",
       "      <th>0</th>\n",
       "      <td>Кто ты</td>\n",
       "      <td>Меня зовут PsyBot, я тестовый вариант бота-пси...</td>\n",
       "    </tr>\n",
       "    <tr>\n",
       "      <th>1</th>\n",
       "      <td>Как настроение</td>\n",
       "      <td>Да клево все!</td>\n",
       "    </tr>\n",
       "  </tbody>\n",
       "</table>\n",
       "</div>"
      ],
      "text/plain": [
       "         Question                                             Answer\n",
       "0          Кто ты  Меня зовут PsyBot, я тестовый вариант бота-пси...\n",
       "1  Как настроение                                      Да клево все!"
      ]
     },
     "execution_count": 24,
     "metadata": {},
     "output_type": "execute_result"
    }
   ],
   "source": [
    "df_small_talk.head(2)"
   ]
  },
  {
   "cell_type": "code",
   "execution_count": 25,
   "id": "56a139ff",
   "metadata": {
    "ExecuteTime": {
     "end_time": "2021-09-24T11:06:12.436133Z",
     "start_time": "2021-09-24T11:06:12.421082Z"
    }
   },
   "outputs": [],
   "source": [
    "VEC_LEN = 768"
   ]
  },
  {
   "cell_type": "code",
   "execution_count": 26,
   "id": "d5ac3871",
   "metadata": {
    "ExecuteTime": {
     "end_time": "2021-09-24T11:06:12.452069Z",
     "start_time": "2021-09-24T11:06:12.438072Z"
    }
   },
   "outputs": [],
   "source": [
    "def mean_pooling(model_output, attention_mask):\n",
    "\n",
    "    # First element of model_output contains all token embeddings\n",
    "    token_embeddings = model_output[0]\n",
    "    input_mask_expanded = attention_mask.unsqueeze(\n",
    "        -1).expand(token_embeddings.size()).float()\n",
    "    sum_embeddings = torch.sum(token_embeddings * input_mask_expanded, 1)\n",
    "    sum_mask = torch.clamp(input_mask_expanded.sum(1), min=1e-9)\n",
    "\n",
    "    return sum_embeddings / sum_mask"
   ]
  },
  {
   "cell_type": "code",
   "execution_count": 27,
   "id": "16234ae2",
   "metadata": {
    "ExecuteTime": {
     "end_time": "2021-09-24T11:06:12.468081Z",
     "start_time": "2021-09-24T11:06:12.454070Z"
    }
   },
   "outputs": [],
   "source": [
    "def get_embedding(text, sw=sw, exclude=exclude, text_process=True):\n",
    "    if text_process:\n",
    "        text = preprocess_question(text, sw, exclude)\n",
    "\n",
    "    tok = tokenizer(text,\n",
    "                    return_token_type_ids=False,\n",
    "                    return_tensors='pt',\n",
    "                    truncation=True,\n",
    "                    max_length=512,\n",
    "                    padding=False\n",
    "                    )\n",
    "\n",
    "    with torch.no_grad():\n",
    "        out_state = bert_model(**tok)\n",
    "\n",
    "    sentence_embeddings = mean_pooling(out_state, tok['attention_mask'])\n",
    "\n",
    "    return sentence_embeddings[0]"
   ]
  },
  {
   "cell_type": "code",
   "execution_count": 28,
   "id": "e20d0598",
   "metadata": {
    "ExecuteTime": {
     "end_time": "2021-09-24T11:06:12.484082Z",
     "start_time": "2021-09-24T11:06:12.470071Z"
    }
   },
   "outputs": [],
   "source": [
    "def get_annoy_index(text_array, sw=sw, exclude=exclude, text_process=True):\n",
    "\n",
    "    bert_index = annoy.AnnoyIndex(VEC_LEN, 'angular')\n",
    "\n",
    "    for num, text in enumerate(tqdm_notebook(text_array)):\n",
    "        out_state = get_embedding(text, sw, exclude, text_process=text_process)\n",
    "        bert_index.add_item(num, out_state)\n",
    "\n",
    "    return bert_index"
   ]
  },
  {
   "cell_type": "code",
   "execution_count": 29,
   "id": "6b207fad",
   "metadata": {
    "ExecuteTime": {
     "end_time": "2021-09-24T11:06:12.500069Z",
     "start_time": "2021-09-24T11:06:12.486084Z"
    }
   },
   "outputs": [],
   "source": [
    "def get_nns(annoy_idx, question, nnn=1):\n",
    "\n",
    "    emb = get_embedding(question)\n",
    "    idx, dis = annoy_idx.get_nns_by_vector(emb, nnn, include_distances=True)\n",
    "\n",
    "    return idx, dis"
   ]
  },
  {
   "cell_type": "code",
   "execution_count": 30,
   "id": "5bdc8cfb",
   "metadata": {
    "ExecuteTime": {
     "end_time": "2021-09-24T11:06:12.516069Z",
     "start_time": "2021-09-24T11:06:12.502069Z"
    }
   },
   "outputs": [],
   "source": [
    "skip_step = True\n",
    "\n",
    "if not skip_step:\n",
    "\n",
    "    small_talk_idx = get_annoy_index(\n",
    "        df_small_talk['Question'], text_process=True)\n",
    "    small_talk_idx.build(50)\n",
    "    small_talk_idx.save('st.annoy')\n",
    "\n",
    "    data1_idx = get_annoy_index(df_data_pr_1['question_ready'], text_process=False)\n",
    "    data1_idx.build(50)\n",
    "    data1_idx.save('data1.annoy')\n",
    "\n",
    "    data2_idx = get_annoy_index(df_data_pr_1['question_ready'], text_process=False)\n",
    "    data2_idx.build(50)\n",
    "    data2_idx.save('data2.annoy')"
   ]
  },
  {
   "cell_type": "code",
   "execution_count": 31,
   "id": "e19c299a",
   "metadata": {
    "ExecuteTime": {
     "end_time": "2021-09-24T11:06:12.532081Z",
     "start_time": "2021-09-24T11:06:12.518071Z"
    }
   },
   "outputs": [
    {
     "data": {
      "text/plain": [
       "True"
      ]
     },
     "execution_count": 31,
     "metadata": {},
     "output_type": "execute_result"
    }
   ],
   "source": [
    "small_talk_idx = annoy.AnnoyIndex(VEC_LEN, 'angular')\n",
    "small_talk_idx.load('st.annoy')\n",
    "\n",
    "data1_idx = annoy.AnnoyIndex(VEC_LEN, 'angular')\n",
    "data1_idx.load('data1.annoy')\n",
    "\n",
    "data2_idx = annoy.AnnoyIndex(VEC_LEN, 'angular')\n",
    "data2_idx.load('data2.annoy')"
   ]
  },
  {
   "cell_type": "code",
   "execution_count": 32,
   "id": "ccf00a84",
   "metadata": {
    "ExecuteTime": {
     "end_time": "2021-09-24T11:06:12.594067Z",
     "start_time": "2021-09-24T11:06:12.534071Z"
    }
   },
   "outputs": [
    {
     "name": "stdout",
     "output_type": "stream",
     "text": [
      "[14] [0.0] Ответ: Да клево все!\n"
     ]
    }
   ],
   "source": [
    "question = 'Как дела'\n",
    "idx, dis = get_nns(small_talk_idx, question, 1)\n",
    "print(idx, dis, f'Ответ: {df_small_talk.Answer[idx[0]]}')"
   ]
  },
  {
   "cell_type": "code",
   "execution_count": 33,
   "id": "bc573a61",
   "metadata": {
    "ExecuteTime": {
     "end_time": "2021-09-24T11:06:12.610067Z",
     "start_time": "2021-09-24T11:06:12.596068Z"
    }
   },
   "outputs": [],
   "source": [
    "# не из базы\n",
    "question = 'Диагноз ТДР. Страдаю ТДР много лет. Очень впячетлительная и ответсвенная.\\\n",
    "Хочется узнать ваше мнение о препарате паксил. Может ли он помочь при депрессии средней тяжести, когда нет сил,\\\n",
    "энергии иногда тоска и все вокруг кажется пасмурным и неинтересным, тревога и иногда ПА (редко ).\\\n",
    "Плохой сон долго немогу уснуть часов до 2 - 3 ночи. Стоит ли мне начинать его принимать или поробовать чтото другое?\\\n",
    "Еще присутствуют сомотофорные симптомы от них еше сильнее тревога'"
   ]
  },
  {
   "cell_type": "code",
   "execution_count": 34,
   "id": "ba8c525c",
   "metadata": {
    "ExecuteTime": {
     "end_time": "2021-09-24T11:06:12.832067Z",
     "start_time": "2021-09-24T11:06:12.612070Z"
    }
   },
   "outputs": [
    {
     "name": "stdout",
     "output_type": "stream",
     "text": [
      "[16066] [0.23478952050209045] Ответ:\n",
      "Попробуйте, если позволяют средства, перейти на один из антидепрессантов класса SNri ( венлафаксин или дулоксетин ). Это Ад двойного действия и с учетом апатии, сонливости, вялости, повышенной утомляемости, я думаю, что они смогут ВАам помочь лучше, чем паксил.\n"
     ]
    }
   ],
   "source": [
    "idx, dis = get_nns(data1_idx, question, 1)\n",
    "print(idx, dis, f'Ответ:\\n{df_data_pr_1.answer_ready[idx[0]]}')"
   ]
  },
  {
   "cell_type": "markdown",
   "id": "2b2c2438",
   "metadata": {},
   "source": [
    "# Add dialogGPT model"
   ]
  },
  {
   "cell_type": "code",
   "execution_count": 35,
   "id": "ac70ffb2",
   "metadata": {
    "ExecuteTime": {
     "end_time": "2021-09-24T11:06:25.190974Z",
     "start_time": "2021-09-24T11:06:12.833067Z"
    },
    "scrolled": true
   },
   "outputs": [
    {
     "name": "stderr",
     "output_type": "stream",
     "text": [
      "Special tokens have been added in the vocabulary, make sure the associated word embeddings are fine-tuned or trained.\n",
      "Special tokens have been added in the vocabulary, make sure the associated word embeddings are fine-tuned or trained.\n"
     ]
    }
   ],
   "source": [
    "gpt_tokenizer = AutoTokenizer.from_pretrained(\"Grossmend/rudialogpt3_medium_based_on_gpt2\")\n",
    "gpt_model = AutoModelForCausalLM.from_pretrained(\"Grossmend/rudialogpt3_medium_based_on_gpt2\")"
   ]
  },
  {
   "cell_type": "code",
   "execution_count": 36,
   "id": "8ca43dee",
   "metadata": {
    "ExecuteTime": {
     "end_time": "2021-09-24T11:06:25.206975Z",
     "start_time": "2021-09-24T11:06:25.191975Z"
    }
   },
   "outputs": [],
   "source": [
    "def get_length_param(text: str) -> str:\n",
    "\n",
    "    tokens_count = len(tokenizer.encode(text))\n",
    "    if tokens_count <= 15:\n",
    "        len_param = '1'\n",
    "    elif tokens_count <= 50:\n",
    "        len_param = '2'\n",
    "    elif tokens_count <= 256:\n",
    "        len_param = '3'\n",
    "    else:\n",
    "        len_param = '-'\n",
    "\n",
    "    return len_param\n",
    "\n",
    "\n",
    "def get_gpt_answer(input_user: str, step: int, chat_history_ids=None) -> str:\n",
    "\n",
    "    new_user_input_ids = gpt_tokenizer.encode(f\"|0|{get_length_param(input_user)}|\" +\n",
    "                                              input_user + gpt_tokenizer.eos_token +\n",
    "                                              \"|1|1|\", return_tensors=\"pt\")\n",
    "\n",
    "    # append the new user input tokens to the chat history\n",
    "    bot_input_ids = torch.cat(\n",
    "        [chat_history_ids, new_user_input_ids], dim=-1) if step > 0 else new_user_input_ids\n",
    "\n",
    "    chat_history_ids = gpt_model.generate(\n",
    "        bot_input_ids,\n",
    "        num_return_sequences=1,\n",
    "        max_length=512,\n",
    "        no_repeat_ngram_size=3,\n",
    "        do_sample=True,\n",
    "        top_k=50,\n",
    "        top_p=0.9,\n",
    "        temperature=0.6,\n",
    "        mask_token_id=gpt_tokenizer.mask_token_id,\n",
    "        eos_token_id=gpt_tokenizer.eos_token_id,\n",
    "        unk_token_id=gpt_tokenizer.unk_token_id,\n",
    "        pad_token_id=gpt_tokenizer.pad_token_id,\n",
    "        device='cpu',\n",
    "    )\n",
    "\n",
    "    to_decode = chat_history_ids[:, bot_input_ids.shape[-1]:][0]\n",
    "    gpt_answer = gpt_tokenizer.decode(to_decode, skip_special_tokens=True)\n",
    "\n",
    "    return gpt_answer, chat_history_ids"
   ]
  },
  {
   "cell_type": "code",
   "execution_count": 37,
   "id": "d08401fd",
   "metadata": {
    "ExecuteTime": {
     "end_time": "2021-09-24T11:06:26.546978Z",
     "start_time": "2021-09-24T11:06:25.208977Z"
    }
   },
   "outputs": [
    {
     "data": {
      "text/plain": [
       "'В зависимости от количества и качества сена.'"
      ]
     },
     "execution_count": 37,
     "metadata": {},
     "output_type": "execute_result"
    }
   ],
   "source": [
    "text = \"Сколько стоит стог сена\"\n",
    "get_gpt_answer(text, 0)[0]"
   ]
  },
  {
   "cell_type": "markdown",
   "id": "1b0992b4",
   "metadata": {
    "ExecuteTime": {
     "end_time": "2021-09-21T10:07:54.645866Z",
     "start_time": "2021-09-21T10:07:53.540861Z"
    }
   },
   "source": [
    "****************************************"
   ]
  },
  {
   "cell_type": "markdown",
   "id": "7bab4d2b",
   "metadata": {
    "ExecuteTime": {
     "end_time": "2021-09-21T10:26:01.293853Z",
     "start_time": "2021-09-21T10:26:01.276725Z"
    }
   },
   "source": [
    "# Telegram Bot"
   ]
  },
  {
   "cell_type": "markdown",
   "id": "1d88aed2",
   "metadata": {},
   "source": [
    "![title](bot_logic.png)"
   ]
  },
  {
   "cell_type": "markdown",
   "id": "d4dede5b",
   "metadata": {},
   "source": [
    "Бот **@your_PsyBot** работает в двух режимах:\n",
    "* **\"консультация\"** \n",
    "* **\"просто поговорить\"**. \n",
    "\n",
    "Для переключения между режимами используются команды(сообщения) **\"need help\"** и **\"just speak\"**. Режим \"консультация\" активирован по умолчанию. После двух неудачных вопросов в режиме \"конусультация\" (когда соответсвия не находятся) автоматически активируется режим \"просто поговорить\". Если сообщение содержит менее 10 слов оно будет рассмотрено в режиме \"просто поговорить\". Все переключения между режимами сопровождаются соответсвющими сообщениями.\n",
    "\n",
    "Для ответов на базовые вопросы (кто ты? что умеешь...) используется данные датафрейма small_talk и все вопросы изначально проходят через него."
   ]
  },
  {
   "cell_type": "code",
   "execution_count": 38,
   "id": "7d1782c2",
   "metadata": {
    "ExecuteTime": {
     "end_time": "2021-09-24T11:06:26.562978Z",
     "start_time": "2021-09-24T11:06:26.547979Z"
    }
   },
   "outputs": [],
   "source": [
    "DIS_ST = 0.5  # расстояние для выбора ответов в small talk\n",
    "DIS_PSY = 0.27  # расстояние для выбора ответов в режиме консультация\n",
    "MAX_Q = 2  # максимальное количество попыток задать вопрос консультанту до перехода в режим \"просто поговорить\"\n",
    "MIN_QL = 10  # минимальное число слов для рассмотрения вопроса в режиме консультации"
   ]
  },
  {
   "cell_type": "code",
   "execution_count": 39,
   "id": "5287b9f8",
   "metadata": {
    "ExecuteTime": {
     "end_time": "2021-09-24T11:06:26.578977Z",
     "start_time": "2021-09-24T11:06:26.565977Z"
    }
   },
   "outputs": [],
   "source": [
    "# Enable logging\n",
    "logging.basicConfig(filename='bot.log',\n",
    "    format='%(asctime)s - %(name)s - %(levelname)s - %(message)s', level=logging.INFO)\n",
    "\n",
    "logger = logging.getLogger()"
   ]
  },
  {
   "cell_type": "code",
   "execution_count": 40,
   "id": "1b3fe374",
   "metadata": {
    "ExecuteTime": {
     "end_time": "2021-09-24T11:06:26.594989Z",
     "start_time": "2021-09-24T11:06:26.580979Z"
    }
   },
   "outputs": [],
   "source": [
    "TOKEN = '===========TOKEN================'  # Токен API к Telegram\n",
    "updater = Updater(TOKEN, use_context=True)\n",
    "dispatcher = updater.dispatcher"
   ]
  },
  {
   "cell_type": "code",
   "execution_count": 41,
   "id": "e473df04",
   "metadata": {
    "ExecuteTime": {
     "end_time": "2021-09-24T11:06:26.626976Z",
     "start_time": "2021-09-24T11:06:26.596980Z"
    }
   },
   "outputs": [],
   "source": [
    "def start(update, context):\n",
    "    \n",
    "    context.chat_data['need_help'] = True\n",
    "    context.chat_data['num_question'] = 0\n",
    "    context.chat_data['step'] = 0\n",
    "    context.chat_data['his_tensor'] = None\n",
    "    name = update.message.chat.first_name\n",
    "    \n",
    "    context.bot.send_message(chat_id=update.effective_chat.id,\n",
    "                             text=f\"Привет, {name}! Я - PSYBOT или просто Доктор:)\")\n",
    "    text_help = dialog_dict['text_help']\n",
    "    for text in text_help:\n",
    "        context.bot.send_message(chat_id=update.effective_chat.id,\n",
    "                                 text=text)\n",
    "\n",
    "\n",
    "def response(update, context):\n",
    "    \n",
    "    name = update['message']['chat']['first_name']\n",
    "\n",
    "    if not context.chat_data:\n",
    "        context.chat_data['need_help'] = True\n",
    "        context.chat_data['num_question'] = 0\n",
    "        context.chat_data['step'] = 0\n",
    "        context.chat_data['his_tensor'] = None\n",
    "\n",
    "    answer_ready = False\n",
    "    question = update.message.text\n",
    "    question = preprocess_text(question)\n",
    "    que_len = len([word for word in re.findall(r'\\w+', question)])\n",
    "    prep_question = preprocess_question(question, sw=sw, exclude=exclude)\n",
    "\n",
    "    if question.lower() == \"speak with me\":\n",
    "        answer = dialog_dict['speak_with_me']\n",
    "        context.chat_data['need_help'] = False\n",
    "        context.chat_data['num_question'] = 0\n",
    "        answer_ready = True\n",
    "\n",
    "    if question.lower() == \"need help\":\n",
    "        answer = dialog_dict['need_help']\n",
    "        context.chat_data['need_help'] = True\n",
    "        context.chat_data['num_question'] = 0\n",
    "        answer_ready = True\n",
    "\n",
    "    if not answer_ready:\n",
    "        idx, dis = get_nns(small_talk_idx, prep_question, 1)\n",
    "\n",
    "        if dis[0] <= DIS_ST:\n",
    "            answer = df_small_talk['Answer'][idx[0]]\n",
    "            answer_ready = True\n",
    "        else:\n",
    "            if context.chat_data['need_help'] and (que_len >= MIN_QL):\n",
    "                idx, dis = get_nns(data1_idx, prep_question, 1)\n",
    "                if dis[0] <= DIS_PSY:\n",
    "                    context.chat_data['num_question'] = 0\n",
    "                    answer = df_data_pr_1['answer_ready'][idx[0]]\n",
    "                    answer = answer.replace('<mtg> Patient <mtg>', name)\n",
    "                    answer_ready = True\n",
    "                else:\n",
    "                    context.chat_data['num_question'] += 1\n",
    "                    if context.chat_data['num_question'] < MAX_Q:\n",
    "                        answer = dialog_dict['not_found']\n",
    "                    else:\n",
    "                        context.chat_data['need_help'] = False\n",
    "                        context.chat_data['num_question'] = 0\n",
    "                        answer = dialog_dict['sorry'] + dialog_dict['speak_with_me']\n",
    "                        context.bot.send_message(chat_id=update.effective_chat.id,\n",
    "                                                 text=answer)\n",
    "\n",
    "        if (not context.chat_data['need_help'] or (que_len < MIN_QL)) and not answer_ready:\n",
    "            answer, context.chat_data['his_tensor'] = get_gpt_answer(question,\n",
    "                                                                     context.chat_data['step'],\n",
    "                                                                     context.chat_data['his_tensor'])\n",
    "            context.chat_data['step'] += 1\n",
    "            \n",
    "    info = name + '/ ' + question + '/ ' + answer\n",
    "    logger.info(info)\n",
    "    context.bot.send_message(chat_id=update.effective_chat.id,\n",
    "                             text=answer)"
   ]
  },
  {
   "cell_type": "code",
   "execution_count": 42,
   "id": "8459836f",
   "metadata": {
    "ExecuteTime": {
     "end_time": "2021-09-24T11:06:26.641989Z",
     "start_time": "2021-09-24T11:06:26.628980Z"
    }
   },
   "outputs": [],
   "source": [
    "start_handler = CommandHandler(['start', 'help'], start)\n",
    "answer_handler = MessageHandler(Filters.text & (~Filters.command), response)\n",
    "\n",
    "dispatcher.add_handler(start_handler)\n",
    "dispatcher.add_handler(answer_handler)"
   ]
  },
  {
   "cell_type": "code",
   "execution_count": 43,
   "id": "aa141533",
   "metadata": {
    "ExecuteTime": {
     "end_time": "2021-09-24T11:08:17.742431Z",
     "start_time": "2021-09-24T11:06:26.643977Z"
    }
   },
   "outputs": [],
   "source": [
    "updater.start_polling()\n",
    "updater.idle()"
   ]
  },
  {
   "cell_type": "markdown",
   "id": "2191e0d2",
   "metadata": {},
   "source": [
    "# RESULTS"
   ]
  },
  {
   "cell_type": "code",
   "execution_count": 44,
   "id": "b90ca0c9",
   "metadata": {
    "ExecuteTime": {
     "end_time": "2021-09-24T11:08:17.758136Z",
     "start_time": "2021-09-24T11:08:17.743424Z"
    }
   },
   "outputs": [],
   "source": [
    "from IPython.display import HTML, display"
   ]
  },
  {
   "cell_type": "markdown",
   "id": "be65f004",
   "metadata": {
    "ExecuteTime": {
     "end_time": "2021-09-24T10:59:20.765512Z",
     "start_time": "2021-09-24T10:59:20.750115Z"
    }
   },
   "source": [
    "## Small talk + GPT"
   ]
  },
  {
   "cell_type": "code",
   "execution_count": 45,
   "id": "61083c6c",
   "metadata": {
    "ExecuteTime": {
     "end_time": "2021-09-24T11:08:17.773835Z",
     "start_time": "2021-09-24T11:08:17.760064Z"
    }
   },
   "outputs": [
    {
     "data": {
      "text/html": [
       "<table><tr><td><img src='./results/sm1.jpg'></td><td><img src='./results/sm2.jpg'></td></tr></table>"
      ],
      "text/plain": [
       "<IPython.core.display.HTML object>"
      ]
     },
     "metadata": {},
     "output_type": "display_data"
    }
   ],
   "source": [
    "display(HTML(\"<table><tr><td><img src='./results/sm1.jpg'></td><td><img src='./results/sm2.jpg'></td></tr></table>\"))"
   ]
  },
  {
   "cell_type": "markdown",
   "id": "24a4047a",
   "metadata": {},
   "source": [
    "## \tConsultation mode"
   ]
  },
  {
   "cell_type": "code",
   "execution_count": 46,
   "id": "cfd35270",
   "metadata": {
    "ExecuteTime": {
     "end_time": "2021-09-24T11:08:17.789535Z",
     "start_time": "2021-09-24T11:08:17.775834Z"
    }
   },
   "outputs": [
    {
     "data": {
      "text/html": [
       "<table><tr><td><img src='./results/consulting1.jpg'></td><td><img src='./results/consulting2.jpg'></td></tr></table>"
      ],
      "text/plain": [
       "<IPython.core.display.HTML object>"
      ]
     },
     "metadata": {},
     "output_type": "display_data"
    }
   ],
   "source": [
    "display(HTML(\"<table><tr><td><img src='./results/consulting1.jpg'></td><td><img src='./results/consulting2.jpg'></td></tr></table>\"))"
   ]
  },
  {
   "cell_type": "code",
   "execution_count": 47,
   "id": "0516e675",
   "metadata": {
    "ExecuteTime": {
     "end_time": "2021-09-24T11:08:17.804451Z",
     "start_time": "2021-09-24T11:08:17.791513Z"
    }
   },
   "outputs": [
    {
     "data": {
      "text/html": [
       "<table><tr><td><img src='./results/consulting3.jpg'></td><td><img src='./results/consulting4.jpg'></td></tr></table>"
      ],
      "text/plain": [
       "<IPython.core.display.HTML object>"
      ]
     },
     "metadata": {},
     "output_type": "display_data"
    }
   ],
   "source": [
    "display(HTML(\"<table><tr><td><img src='./results/consulting3.jpg'></td><td><img src='./results/consulting4.jpg'></td></tr></table>\"))"
   ]
  },
  {
   "cell_type": "markdown",
   "id": "bd8382b9",
   "metadata": {},
   "source": [
    "PS. Бота нельзя выпускать в сеть. Может посоветовать чет не то."
   ]
  }
 ],
 "metadata": {
  "kernelspec": {
   "display_name": "Python 3",
   "language": "python",
   "name": "python3"
  },
  "language_info": {
   "codemirror_mode": {
    "name": "ipython",
    "version": 3
   },
   "file_extension": ".py",
   "mimetype": "text/x-python",
   "name": "python",
   "nbconvert_exporter": "python",
   "pygments_lexer": "ipython3",
   "version": "3.8.8"
  },
  "toc": {
   "base_numbering": 1,
   "nav_menu": {},
   "number_sections": true,
   "sideBar": true,
   "skip_h1_title": false,
   "title_cell": "Table of Contents",
   "title_sidebar": "Contents",
   "toc_cell": false,
   "toc_position": {},
   "toc_section_display": true,
   "toc_window_display": false
  }
 },
 "nbformat": 4,
 "nbformat_minor": 5
}
